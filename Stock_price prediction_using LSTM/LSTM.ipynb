{
 "cells": [
  {
   "cell_type": "markdown",
   "metadata": {},
   "source": [
    "Stock Price prediction Using LSTM."
   ]
  },
  {
   "cell_type": "markdown",
   "metadata": {},
   "source": [
    "Pandas datareader : https://pandas-datareader.readthedocs.io/en/latest/remote_data.html#remote-data-tiingo\n",
    "\n",
    "Tiingo : Tiingo is a tracing platform that provides a data api with historical end-of-day prices on equities, mutual funds and ETFs. \n",
    "    Free registration is required to get an API key. \n",
    "    Free accounts are rate limited and can access a limited number of symbols\n",
    "\n"
   ]
  },
  {
   "cell_type": "markdown",
   "metadata": {},
   "source": [
    "API token: 0f2d66254ed2884134ff661f2eecaf9b6b74ee98"
   ]
  },
  {
   "cell_type": "code",
   "execution_count": 1,
   "metadata": {},
   "outputs": [],
   "source": [
    "import pandas_datareader as pdr\n",
    "import pandas as pd\n",
    "import numpy as np\n"
   ]
  },
  {
   "cell_type": "code",
   "execution_count": 2,
   "metadata": {},
   "outputs": [],
   "source": [
    "key = \"0f2d66254ed2884134ff661f2eecaf9b6b74ee98\""
   ]
  },
  {
   "cell_type": "code",
   "execution_count": 3,
   "metadata": {},
   "outputs": [
    {
     "name": "stderr",
     "output_type": "stream",
     "text": [
      "c:\\Users\\Rahul raaghav A\\AppData\\Local\\Programs\\Python\\Python39\\lib\\site-packages\\pandas_datareader\\tiingo.py:234: FutureWarning: In a future version of pandas all arguments of concat except for the argument 'objs' will be keyword-only.\n",
      "  return pd.concat(dfs, self._concat_axis)\n"
     ]
    }
   ],
   "source": [
    "# df = pdr.get_data_tiingo('AAPL', api_key = key)\n",
    "# 50 api call allowed per day"
   ]
  },
  {
   "cell_type": "code",
   "execution_count": 4,
   "metadata": {},
   "outputs": [],
   "source": [
    "# df.to_csv('AAPL.csv')"
   ]
  },
  {
   "cell_type": "code",
   "execution_count": 5,
   "metadata": {},
   "outputs": [],
   "source": [
    "df = pd.read_csv('AAPL.csv')"
   ]
  },
  {
   "cell_type": "code",
   "execution_count": 28,
   "metadata": {},
   "outputs": [
    {
     "data": {
      "text/html": [
       "<div>\n",
       "<style scoped>\n",
       "    .dataframe tbody tr th:only-of-type {\n",
       "        vertical-align: middle;\n",
       "    }\n",
       "\n",
       "    .dataframe tbody tr th {\n",
       "        vertical-align: top;\n",
       "    }\n",
       "\n",
       "    .dataframe thead th {\n",
       "        text-align: right;\n",
       "    }\n",
       "</style>\n",
       "<table border=\"1\" class=\"dataframe\">\n",
       "  <thead>\n",
       "    <tr style=\"text-align: right;\">\n",
       "      <th></th>\n",
       "      <th>symbol</th>\n",
       "      <th>date</th>\n",
       "      <th>close</th>\n",
       "      <th>high</th>\n",
       "      <th>low</th>\n",
       "      <th>open</th>\n",
       "      <th>volume</th>\n",
       "      <th>adjClose</th>\n",
       "      <th>adjHigh</th>\n",
       "      <th>adjLow</th>\n",
       "      <th>adjOpen</th>\n",
       "      <th>adjVolume</th>\n",
       "      <th>divCash</th>\n",
       "      <th>splitFactor</th>\n",
       "    </tr>\n",
       "  </thead>\n",
       "  <tbody>\n",
       "    <tr>\n",
       "      <th>0</th>\n",
       "      <td>AAPL</td>\n",
       "      <td>2017-06-14 00:00:00+00:00</td>\n",
       "      <td>145.16</td>\n",
       "      <td>147.5000</td>\n",
       "      <td>143.84</td>\n",
       "      <td>147.50</td>\n",
       "      <td>31224203</td>\n",
       "      <td>34.348279</td>\n",
       "      <td>34.901978</td>\n",
       "      <td>34.035936</td>\n",
       "      <td>34.901978</td>\n",
       "      <td>124896812</td>\n",
       "      <td>0.0</td>\n",
       "      <td>1.0</td>\n",
       "    </tr>\n",
       "    <tr>\n",
       "      <th>1</th>\n",
       "      <td>AAPL</td>\n",
       "      <td>2017-06-15 00:00:00+00:00</td>\n",
       "      <td>144.29</td>\n",
       "      <td>144.4798</td>\n",
       "      <td>142.21</td>\n",
       "      <td>143.32</td>\n",
       "      <td>31348832</td>\n",
       "      <td>34.142416</td>\n",
       "      <td>34.187328</td>\n",
       "      <td>33.650239</td>\n",
       "      <td>33.912892</td>\n",
       "      <td>125395328</td>\n",
       "      <td>0.0</td>\n",
       "      <td>1.0</td>\n",
       "    </tr>\n",
       "    <tr>\n",
       "      <th>2</th>\n",
       "      <td>AAPL</td>\n",
       "      <td>2017-06-16 00:00:00+00:00</td>\n",
       "      <td>142.27</td>\n",
       "      <td>144.5000</td>\n",
       "      <td>142.20</td>\n",
       "      <td>143.78</td>\n",
       "      <td>49180748</td>\n",
       "      <td>33.664437</td>\n",
       "      <td>34.192107</td>\n",
       "      <td>33.647873</td>\n",
       "      <td>34.021738</td>\n",
       "      <td>196722992</td>\n",
       "      <td>0.0</td>\n",
       "      <td>1.0</td>\n",
       "    </tr>\n",
       "    <tr>\n",
       "      <th>3</th>\n",
       "      <td>AAPL</td>\n",
       "      <td>2017-06-19 00:00:00+00:00</td>\n",
       "      <td>146.34</td>\n",
       "      <td>146.7400</td>\n",
       "      <td>143.66</td>\n",
       "      <td>143.66</td>\n",
       "      <td>31449132</td>\n",
       "      <td>34.627495</td>\n",
       "      <td>34.722144</td>\n",
       "      <td>33.993344</td>\n",
       "      <td>33.993344</td>\n",
       "      <td>125796528</td>\n",
       "      <td>0.0</td>\n",
       "      <td>1.0</td>\n",
       "    </tr>\n",
       "    <tr>\n",
       "      <th>4</th>\n",
       "      <td>AAPL</td>\n",
       "      <td>2017-06-20 00:00:00+00:00</td>\n",
       "      <td>145.01</td>\n",
       "      <td>146.8700</td>\n",
       "      <td>144.94</td>\n",
       "      <td>146.87</td>\n",
       "      <td>24572170</td>\n",
       "      <td>34.312785</td>\n",
       "      <td>34.752905</td>\n",
       "      <td>34.296222</td>\n",
       "      <td>34.752905</td>\n",
       "      <td>98288680</td>\n",
       "      <td>0.0</td>\n",
       "      <td>1.0</td>\n",
       "    </tr>\n",
       "  </tbody>\n",
       "</table>\n",
       "</div>"
      ],
      "text/plain": [
       "  symbol                       date   close      high     low    open  \\\n",
       "0   AAPL  2017-06-14 00:00:00+00:00  145.16  147.5000  143.84  147.50   \n",
       "1   AAPL  2017-06-15 00:00:00+00:00  144.29  144.4798  142.21  143.32   \n",
       "2   AAPL  2017-06-16 00:00:00+00:00  142.27  144.5000  142.20  143.78   \n",
       "3   AAPL  2017-06-19 00:00:00+00:00  146.34  146.7400  143.66  143.66   \n",
       "4   AAPL  2017-06-20 00:00:00+00:00  145.01  146.8700  144.94  146.87   \n",
       "\n",
       "     volume   adjClose    adjHigh     adjLow    adjOpen  adjVolume  divCash  \\\n",
       "0  31224203  34.348279  34.901978  34.035936  34.901978  124896812      0.0   \n",
       "1  31348832  34.142416  34.187328  33.650239  33.912892  125395328      0.0   \n",
       "2  49180748  33.664437  34.192107  33.647873  34.021738  196722992      0.0   \n",
       "3  31449132  34.627495  34.722144  33.993344  33.993344  125796528      0.0   \n",
       "4  24572170  34.312785  34.752905  34.296222  34.752905   98288680      0.0   \n",
       "\n",
       "   splitFactor  \n",
       "0          1.0  \n",
       "1          1.0  \n",
       "2          1.0  \n",
       "3          1.0  \n",
       "4          1.0  "
      ]
     },
     "execution_count": 28,
     "metadata": {},
     "output_type": "execute_result"
    }
   ],
   "source": [
    "# df.head()\n",
    "df.head()\n",
    "# Recent data before 3 days is available"
   ]
  },
  {
   "cell_type": "code",
   "execution_count": 7,
   "metadata": {},
   "outputs": [],
   "source": [
    "# Analysis is performed only on closing price for now\n",
    "df1 = df.reset_index()['close']\n",
    "\n",
    "df2 = df[['close', 'date']]\n",
    "# df1.head()\n",
    "# df2.head()"
   ]
  },
  {
   "cell_type": "code",
   "execution_count": 8,
   "metadata": {},
   "outputs": [
    {
     "data": {
      "text/plain": [
       "[<matplotlib.lines.Line2D at 0x2e9d5d7bdf0>]"
      ]
     },
     "execution_count": 8,
     "metadata": {},
     "output_type": "execute_result"
    },
    {
     "data": {
      "image/png": "[encoded data removed]",
      "text/plain": [
       "<Figure size 432x288 with 1 Axes>"
      ]
     },
     "metadata": {
      "needs_background": "light"
     },
     "output_type": "display_data"
    }
   ],
   "source": [
    "# Let us plot the closing price data to observe the general trend\n",
    "import matplotlib.pyplot as plt\n",
    "plt.plot(df1)"
   ]
  },
  {
   "cell_type": "code",
   "execution_count": 9,
   "metadata": {},
   "outputs": [
    {
     "data": {
      "text/plain": [
       "(1258, 1)"
      ]
     },
     "execution_count": 9,
     "metadata": {},
     "output_type": "execute_result"
    }
   ],
   "source": [
    "# Define an LSTM model\n",
    "# LSTM's are sensitive to the scale of the data so scale them properly\n",
    "# Use sklearn library for MinMax scaling\n",
    "\n",
    "from sklearn.preprocessing import MinMaxScaler\n",
    "\n",
    "# define a scaler object that scale the data to the given range\n",
    "scaler = MinMaxScaler(feature_range=(0,1))\n",
    "# Use this scaler object to scale the df1 \n",
    "# We need to convert df1 to a numpy array\n",
    "\n",
    "np_array = np.array(df1)\n",
    "# np_array.shape\n",
    "\n",
    "# Reshape it because scaler.fit_transform expects a 2d array\n",
    "\n",
    "np_array = np_array.reshape(-1,1)\n",
    "# np_array.shape\n",
    "\n",
    "df1 = scaler.fit_transform(np_array)\n",
    "df1.shape"
   ]
  },
  {
   "cell_type": "code",
   "execution_count": 10,
   "metadata": {},
   "outputs": [
    {
     "name": "stdout",
     "output_type": "stream",
     "text": [
      "1258\n"
     ]
    }
   ],
   "source": [
    "print(len(df1))\n",
    "# We have data for 1258 days"
   ]
  },
  {
   "cell_type": "code",
   "execution_count": 11,
   "metadata": {},
   "outputs": [
    {
     "name": "stdout",
     "output_type": "stream",
     "text": [
      "(817, 1)\n",
      "(441, 1)\n"
     ]
    }
   ],
   "source": [
    "# Split the data into train and test split\n",
    "# while working with time series data we are not supposed to shuffle the data, obviously.\n",
    "# Series should be maintained in order to the date\n",
    "\n",
    "train_size = int(len(df1)*0.65)\n",
    "test_size = len(df1) - train_size\n",
    "\n",
    "train_data = df1[:train_size,:]\n",
    "test_data  = df1[train_size:len(df1),:1] \n",
    "\n",
    "print(train_data.shape)\n",
    "print(test_data.shape)\n"
   ]
  },
  {
   "cell_type": "code",
   "execution_count": 12,
   "metadata": {},
   "outputs": [],
   "source": [
    "# We need to define a function that gives the data in the format that we need\n",
    "# time step is the number of previous data point that we will use as an input to our LSTM model\n",
    "# to predict the next data output\n",
    "# if time step = 100 then tn-100 .... tn-1 is used to get tn\n",
    "\n",
    "def create_dataset(dataset, time_step = 1):\n",
    "    dataX,dataY = [], []\n",
    "    for i in range(len(dataset) - time_step - 1):\n",
    "        a = dataset[i:(i+time_step),0]\n",
    "        dataX.append(a)\n",
    "        dataY.append(dataset[i+time_step,0])\n",
    "    return np.array(dataX), np.array(dataY)"
   ]
  },
  {
   "cell_type": "code",
   "execution_count": 13,
   "metadata": {},
   "outputs": [],
   "source": [
    "# format the data in the required order using the function\n",
    "\n",
    "time_step = 100\n",
    "# Training data\n",
    "X_train, Y_train = create_dataset(train_data,time_step)\n",
    "# Testing data\n",
    "X_test, Y_test = create_dataset(test_data,time_step)\n",
    "\n",
    "# print(X_train.shape)\n",
    "# Each row has data starting from that index to index + time_step"
   ]
  },
  {
   "cell_type": "code",
   "execution_count": 14,
   "metadata": {},
   "outputs": [],
   "source": [
    "# For giving the input to the LSTM we will give reshape the data to have one more dimension\n",
    "\n",
    "X_train = X_train.reshape(X_train.shape[0],X_train.shape[1],1)\n",
    "\n",
    "X_test = X_test.reshape(X_test.shape[0],X_test.shape[1],1)\n",
    "\n",
    "# print(X_test.shape)\n",
    "# print(X_train.shape)\n",
    "\n",
    "# print(X_train)"
   ]
  },
  {
   "cell_type": "code",
   "execution_count": 15,
   "metadata": {},
   "outputs": [],
   "source": [
    "# Creating the LSTM model using Keras\n",
    "\n",
    "import tensorflow as tf\n",
    "from tensorflow import keras\n",
    "from keras.models import Sequential\n",
    "from keras.layers import Dense, LSTM"
   ]
  },
  {
   "cell_type": "code",
   "execution_count": 16,
   "metadata": {},
   "outputs": [],
   "source": [
    "model = Sequential()\n",
    "\n",
    "model.add(LSTM(50,return_sequences=True,input_shape = (100,1)))\n",
    "\n",
    "model.add(LSTM(50,return_sequences=True))\n",
    "\n",
    "model.add(LSTM(50))\n",
    "\n",
    "model.add(Dense(1))\n",
    "\n",
    "model.compile(optimizer='adam', loss = 'mean_squared_error')"
   ]
  },
  {
   "cell_type": "code",
   "execution_count": 17,
   "metadata": {},
   "outputs": [
    {
     "name": "stdout",
     "output_type": "stream",
     "text": [
      "Model: \"sequential\"\n",
      "_________________________________________________________________\n",
      " Layer (type)                Output Shape              Param #   \n",
      "=================================================================\n",
      " lstm (LSTM)                 (None, 100, 50)           10400     \n",
      "                                                                 \n",
      " lstm_1 (LSTM)               (None, 100, 50)           20200     \n",
      "                                                                 \n",
      " lstm_2 (LSTM)               (None, 50)                20200     \n",
      "                                                                 \n",
      " dense (Dense)               (None, 1)                 51        \n",
      "                                                                 \n",
      "=================================================================\n",
      "Total params: 50,851\n",
      "Trainable params: 50,851\n",
      "Non-trainable params: 0\n",
      "_________________________________________________________________\n"
     ]
    }
   ],
   "source": [
    "model.summary()"
   ]
  },
  {
   "cell_type": "code",
   "execution_count": 21,
   "metadata": {},
   "outputs": [
    {
     "name": "stdout",
     "output_type": "stream",
     "text": [
      "Epoch 1/100\n",
      "23/23 [==============================] - 2s 96ms/step - loss: 0.0012 - val_loss: 1.3703e-04\n",
      "Epoch 2/100\n",
      "23/23 [==============================] - 2s 102ms/step - loss: 0.0020 - val_loss: 1.3586e-04\n",
      "Epoch 3/100\n",
      "23/23 [==============================] - 2s 96ms/step - loss: 0.0028 - val_loss: 0.0018\n",
      "Epoch 4/100\n",
      "23/23 [==============================] - 2s 95ms/step - loss: 0.0020 - val_loss: 2.1293e-04\n",
      "Epoch 5/100\n",
      "23/23 [==============================] - 2s 106ms/step - loss: 0.0017 - val_loss: 1.2777e-04\n",
      "Epoch 6/100\n",
      "23/23 [==============================] - 2s 104ms/step - loss: 0.0013 - val_loss: 3.9862e-04\n",
      "Epoch 7/100\n",
      "23/23 [==============================] - 3s 111ms/step - loss: 0.0013 - val_loss: 1.4120e-04\n",
      "Epoch 8/100\n",
      "23/23 [==============================] - 3s 120ms/step - loss: 0.0012 - val_loss: 1.1256e-04\n",
      "Epoch 9/100\n",
      "23/23 [==============================] - 3s 112ms/step - loss: 0.0012 - val_loss: 2.8208e-04\n",
      "Epoch 10/100\n",
      "23/23 [==============================] - 3s 121ms/step - loss: 0.0013 - val_loss: 1.2158e-04\n",
      "Epoch 11/100\n",
      "23/23 [==============================] - 2s 100ms/step - loss: 0.0015 - val_loss: 1.6914e-04\n",
      "Epoch 12/100\n",
      "23/23 [==============================] - 2s 98ms/step - loss: 0.0020 - val_loss: 6.9043e-04\n",
      "Epoch 13/100\n",
      "23/23 [==============================] - 2s 107ms/step - loss: 0.0015 - val_loss: 1.1038e-04\n",
      "Epoch 14/100\n",
      "23/23 [==============================] - 2s 107ms/step - loss: 0.0014 - val_loss: 2.5736e-04\n",
      "Epoch 15/100\n",
      "23/23 [==============================] - 3s 116ms/step - loss: 0.0019 - val_loss: 4.6875e-04\n",
      "Epoch 16/100\n",
      "23/23 [==============================] - 2s 99ms/step - loss: 0.0013 - val_loss: 2.4937e-04\n",
      "Epoch 17/100\n",
      "23/23 [==============================] - 2s 105ms/step - loss: 0.0012 - val_loss: 3.0901e-04\n",
      "Epoch 18/100\n",
      "23/23 [==============================] - 2s 99ms/step - loss: 0.0011 - val_loss: 1.0788e-04\n",
      "Epoch 19/100\n",
      "23/23 [==============================] - 2s 105ms/step - loss: 9.9326e-04 - val_loss: 1.6417e-04\n",
      "Epoch 20/100\n",
      "23/23 [==============================] - 3s 112ms/step - loss: 0.0011 - val_loss: 1.1447e-04\n",
      "Epoch 21/100\n",
      "23/23 [==============================] - 2s 107ms/step - loss: 9.3264e-04 - val_loss: 3.8017e-04\n",
      "Epoch 22/100\n",
      "23/23 [==============================] - 2s 105ms/step - loss: 0.0013 - val_loss: 2.4843e-04\n",
      "Epoch 23/100\n",
      "23/23 [==============================] - 2s 100ms/step - loss: 0.0011 - val_loss: 1.0092e-04\n",
      "Epoch 24/100\n",
      "23/23 [==============================] - 2s 100ms/step - loss: 0.0010 - val_loss: 1.7032e-04\n",
      "Epoch 25/100\n",
      "23/23 [==============================] - 2s 89ms/step - loss: 0.0013 - val_loss: 2.1924e-04\n",
      "Epoch 26/100\n",
      "23/23 [==============================] - 2s 96ms/step - loss: 0.0011 - val_loss: 3.7757e-04\n",
      "Epoch 27/100\n",
      "23/23 [==============================] - 2s 109ms/step - loss: 0.0014 - val_loss: 1.0457e-04\n",
      "Epoch 28/100\n",
      "23/23 [==============================] - 2s 101ms/step - loss: 0.0013 - val_loss: 7.2527e-04\n",
      "Epoch 29/100\n",
      "23/23 [==============================] - 2s 108ms/step - loss: 0.0010 - val_loss: 2.4376e-04\n",
      "Epoch 30/100\n",
      "23/23 [==============================] - 2s 106ms/step - loss: 9.4572e-04 - val_loss: 1.6392e-04\n",
      "Epoch 31/100\n",
      "23/23 [==============================] - 2s 107ms/step - loss: 0.0010 - val_loss: 1.2438e-04\n",
      "Epoch 32/100\n",
      "23/23 [==============================] - 2s 102ms/step - loss: 0.0011 - val_loss: 1.5891e-04\n",
      "Epoch 33/100\n",
      "23/23 [==============================] - 2s 102ms/step - loss: 9.5560e-04 - val_loss: 1.0536e-04\n",
      "Epoch 34/100\n",
      "23/23 [==============================] - 2s 108ms/step - loss: 0.0011 - val_loss: 2.3471e-04\n",
      "Epoch 35/100\n",
      "23/23 [==============================] - 2s 101ms/step - loss: 0.0012 - val_loss: 1.0929e-04\n",
      "Epoch 36/100\n",
      "23/23 [==============================] - 2s 90ms/step - loss: 0.0011 - val_loss: 3.8890e-04\n",
      "Epoch 37/100\n",
      "23/23 [==============================] - 2s 95ms/step - loss: 0.0011 - val_loss: 2.1822e-04\n",
      "Epoch 38/100\n",
      "23/23 [==============================] - 2s 109ms/step - loss: 9.5644e-04 - val_loss: 2.8934e-04\n",
      "Epoch 39/100\n",
      "23/23 [==============================] - 2s 101ms/step - loss: 0.0014 - val_loss: 7.8360e-04\n",
      "Epoch 40/100\n",
      "23/23 [==============================] - 2s 106ms/step - loss: 9.8977e-04 - val_loss: 1.7180e-04\n",
      "Epoch 41/100\n",
      "23/23 [==============================] - 2s 98ms/step - loss: 0.0013 - val_loss: 2.4434e-04\n",
      "Epoch 42/100\n",
      "23/23 [==============================] - 2s 107ms/step - loss: 0.0016 - val_loss: 1.0454e-04\n",
      "Epoch 43/100\n",
      "23/23 [==============================] - 2s 101ms/step - loss: 0.0016 - val_loss: 1.1642e-04\n",
      "Epoch 44/100\n",
      "23/23 [==============================] - 2s 104ms/step - loss: 0.0017 - val_loss: 2.9383e-04\n",
      "Epoch 45/100\n",
      "23/23 [==============================] - 2s 103ms/step - loss: 0.0015 - val_loss: 1.2140e-04\n",
      "Epoch 46/100\n",
      "23/23 [==============================] - 2s 102ms/step - loss: 0.0040 - val_loss: 4.0682e-04\n",
      "Epoch 47/100\n",
      "23/23 [==============================] - 2s 105ms/step - loss: 0.0021 - val_loss: 4.0879e-04\n",
      "Epoch 48/100\n",
      "23/23 [==============================] - 2s 105ms/step - loss: 0.0016 - val_loss: 2.3735e-04\n",
      "Epoch 49/100\n",
      "23/23 [==============================] - 2s 104ms/step - loss: 0.0015 - val_loss: 9.6284e-05\n",
      "Epoch 50/100\n",
      "23/23 [==============================] - 2s 103ms/step - loss: 0.0014 - val_loss: 4.3797e-04\n",
      "Epoch 51/100\n",
      "23/23 [==============================] - 3s 119ms/step - loss: 0.0013 - val_loss: 1.3911e-04\n",
      "Epoch 52/100\n",
      "23/23 [==============================] - 2s 102ms/step - loss: 0.0013 - val_loss: 9.6414e-05\n",
      "Epoch 53/100\n",
      "23/23 [==============================] - 2s 97ms/step - loss: 0.0014 - val_loss: 1.6638e-04\n",
      "Epoch 54/100\n",
      "23/23 [==============================] - 2s 90ms/step - loss: 0.0013 - val_loss: 5.2786e-04\n",
      "Epoch 55/100\n",
      "23/23 [==============================] - 2s 89ms/step - loss: 0.0014 - val_loss: 1.0953e-04\n",
      "Epoch 56/100\n",
      "23/23 [==============================] - 2s 89ms/step - loss: 0.0012 - val_loss: 2.3427e-04\n",
      "Epoch 57/100\n",
      "23/23 [==============================] - 2s 90ms/step - loss: 0.0012 - val_loss: 1.5194e-04\n",
      "Epoch 58/100\n",
      "23/23 [==============================] - 2s 96ms/step - loss: 0.0012 - val_loss: 1.4164e-04\n",
      "Epoch 59/100\n",
      "23/23 [==============================] - 2s 98ms/step - loss: 0.0012 - val_loss: 1.6848e-04\n",
      "Epoch 60/100\n",
      "23/23 [==============================] - 2s 104ms/step - loss: 0.0012 - val_loss: 1.3006e-04\n",
      "Epoch 61/100\n",
      "23/23 [==============================] - 2s 100ms/step - loss: 0.0011 - val_loss: 2.3826e-04\n",
      "Epoch 62/100\n",
      "23/23 [==============================] - 2s 101ms/step - loss: 0.0011 - val_loss: 2.3083e-04\n",
      "Epoch 63/100\n",
      "23/23 [==============================] - 2s 100ms/step - loss: 0.0011 - val_loss: 1.9318e-04\n",
      "Epoch 64/100\n",
      "23/23 [==============================] - 2s 100ms/step - loss: 0.0012 - val_loss: 2.5032e-04\n",
      "Epoch 65/100\n",
      "23/23 [==============================] - 2s 101ms/step - loss: 9.8069e-04 - val_loss: 1.9841e-04\n",
      "Epoch 66/100\n",
      "23/23 [==============================] - 2s 101ms/step - loss: 0.0011 - val_loss: 1.9934e-04\n",
      "Epoch 67/100\n",
      "23/23 [==============================] - 2s 99ms/step - loss: 9.8413e-04 - val_loss: 9.8888e-05\n",
      "Epoch 68/100\n",
      "23/23 [==============================] - 2s 99ms/step - loss: 0.0011 - val_loss: 1.2066e-04\n",
      "Epoch 69/100\n",
      "23/23 [==============================] - 2s 102ms/step - loss: 0.0011 - val_loss: 1.0224e-04\n",
      "Epoch 70/100\n",
      "23/23 [==============================] - 2s 96ms/step - loss: 9.4780e-04 - val_loss: 1.2680e-04\n",
      "Epoch 71/100\n",
      "23/23 [==============================] - 2s 95ms/step - loss: 8.9564e-04 - val_loss: 1.3373e-04\n",
      "Epoch 72/100\n",
      "23/23 [==============================] - 2s 96ms/step - loss: 9.9486e-04 - val_loss: 1.5738e-04\n",
      "Epoch 73/100\n",
      "23/23 [==============================] - 2s 105ms/step - loss: 8.3664e-04 - val_loss: 1.0886e-04\n",
      "Epoch 74/100\n",
      "23/23 [==============================] - 2s 107ms/step - loss: 0.0010 - val_loss: 1.6426e-04\n",
      "Epoch 75/100\n",
      "23/23 [==============================] - 2s 105ms/step - loss: 9.5593e-04 - val_loss: 1.9388e-04\n",
      "Epoch 76/100\n",
      "23/23 [==============================] - 2s 104ms/step - loss: 0.0012 - val_loss: 5.2847e-04\n",
      "Epoch 77/100\n",
      "23/23 [==============================] - 2s 96ms/step - loss: 0.0010 - val_loss: 2.5920e-04\n",
      "Epoch 78/100\n",
      "23/23 [==============================] - 2s 101ms/step - loss: 0.0010 - val_loss: 2.0511e-04\n",
      "Epoch 79/100\n",
      "23/23 [==============================] - 2s 105ms/step - loss: 8.3464e-04 - val_loss: 1.5964e-04\n",
      "Epoch 80/100\n",
      "23/23 [==============================] - 2s 101ms/step - loss: 8.5338e-04 - val_loss: 1.0819e-04\n",
      "Epoch 81/100\n",
      "23/23 [==============================] - 2s 90ms/step - loss: 0.0011 - val_loss: 1.0844e-04\n",
      "Epoch 82/100\n",
      "23/23 [==============================] - 2s 104ms/step - loss: 0.0012 - val_loss: 1.9194e-04\n",
      "Epoch 83/100\n",
      "23/23 [==============================] - 2s 108ms/step - loss: 0.0016 - val_loss: 0.0012\n",
      "Epoch 84/100\n",
      "23/23 [==============================] - 2s 105ms/step - loss: 0.0012 - val_loss: 1.4780e-04\n",
      "Epoch 85/100\n",
      "23/23 [==============================] - 2s 101ms/step - loss: 0.0011 - val_loss: 1.7222e-04\n",
      "Epoch 86/100\n",
      "23/23 [==============================] - 2s 97ms/step - loss: 8.5592e-04 - val_loss: 2.6907e-04\n",
      "Epoch 87/100\n",
      "23/23 [==============================] - 2s 97ms/step - loss: 9.8067e-04 - val_loss: 9.9455e-05\n",
      "Epoch 88/100\n",
      "23/23 [==============================] - 2s 97ms/step - loss: 0.0010 - val_loss: 1.5771e-04\n",
      "Epoch 89/100\n",
      "23/23 [==============================] - 2s 97ms/step - loss: 8.6896e-04 - val_loss: 9.7240e-05\n",
      "Epoch 90/100\n",
      "23/23 [==============================] - 2s 103ms/step - loss: 8.4270e-04 - val_loss: 1.8218e-04\n",
      "Epoch 91/100\n",
      "23/23 [==============================] - 2s 103ms/step - loss: 0.0011 - val_loss: 2.2723e-04\n",
      "Epoch 92/100\n",
      "23/23 [==============================] - 2s 101ms/step - loss: 0.0015 - val_loss: 4.3515e-04\n",
      "Epoch 93/100\n",
      "23/23 [==============================] - 2s 106ms/step - loss: 0.0013 - val_loss: 9.2270e-05\n",
      "Epoch 94/100\n",
      "23/23 [==============================] - 2s 102ms/step - loss: 0.0011 - val_loss: 2.5571e-04\n",
      "Epoch 95/100\n",
      "23/23 [==============================] - 2s 102ms/step - loss: 9.4968e-04 - val_loss: 1.5979e-04\n",
      "Epoch 96/100\n",
      "23/23 [==============================] - 2s 100ms/step - loss: 0.0012 - val_loss: 3.0121e-04\n",
      "Epoch 97/100\n",
      "23/23 [==============================] - 2s 98ms/step - loss: 0.0021 - val_loss: 7.0337e-04\n",
      "Epoch 98/100\n",
      "23/23 [==============================] - 2s 97ms/step - loss: 0.0015 - val_loss: 1.3035e-04\n",
      "Epoch 99/100\n",
      "23/23 [==============================] - 2s 110ms/step - loss: 0.0019 - val_loss: 2.0365e-04\n",
      "Epoch 100/100\n",
      "23/23 [==============================] - 3s 112ms/step - loss: 0.0010 - val_loss: 1.0124e-04\n"
     ]
    },
    {
     "data": {
      "text/plain": [
       "<keras.callbacks.History at 0x2e98b17edf0>"
      ]
     },
     "execution_count": 21,
     "metadata": {},
     "output_type": "execute_result"
    }
   ],
   "source": [
    "# Now that model has been built, start the training\n",
    "model.fit(X_train,Y_train,validation_data=(X_test,Y_test),epochs=100, batch_size=32)"
   ]
  },
  {
   "cell_type": "code",
   "execution_count": 22,
   "metadata": {},
   "outputs": [],
   "source": [
    "model.save('AAPL_pred.h5')"
   ]
  },
  {
   "cell_type": "code",
   "execution_count": 23,
   "metadata": {},
   "outputs": [],
   "source": [
    "# Now that training is done validate with both training and test data\n",
    "\n",
    "train_predict = model.predict(X_train)\n",
    "test_predict = model.predict(X_test)\n",
    "\n",
    "# Output predict by the model is in scaled form\n",
    "# So we need to transform it back\n",
    "\n",
    "train_predict = scaler.inverse_transform(train_predict)\n",
    "test_predict = scaler.inverse_transform(test_predict)\n"
   ]
  },
  {
   "cell_type": "code",
   "execution_count": 25,
   "metadata": {},
   "outputs": [
    {
     "name": "stdout",
     "output_type": "stream",
     "text": [
      "Accuracy is : 147.89494612583144\n"
     ]
    }
   ],
   "source": [
    "# Let's Calculate the mean squared error of the predictions\n",
    "import math\n",
    "from sklearn.metrics import mean_squared_error\n",
    "\n",
    "# validation on Training set\n",
    "# mae = mean_squared_error(Y_train,train_predict)\n",
    "# print(f'Accuracy is : {math.sqrt(mae)}')\n",
    "\n",
    "# validation on Test set\n",
    "mae = mean_squared_error(Y_test,test_predict)\n",
    "print(f'Accuracy is : {math.sqrt(mae)}')"
   ]
  },
  {
   "cell_type": "code",
   "execution_count": 27,
   "metadata": {},
   "outputs": [
    {
     "data": {
      "image/png": "[encoded data removed]",
      "text/plain": [
       "<Figure size 864x576 with 1 Axes>"
      ]
     },
     "metadata": {
      "needs_background": "light"
     },
     "output_type": "display_data"
    }
   ],
   "source": [
    "# Now let's compare the predictions by plotting\n",
    "\n",
    "look_back=100\n",
    "trainPredictPlot = np.empty_like(df1)\n",
    "trainPredictPlot[:, :] = np.nan\n",
    "trainPredictPlot[look_back:len(train_predict)+look_back, :] = train_predict\n",
    "# shift test predictions for plotting\n",
    "testPredictPlot = np.empty_like(df1)\n",
    "testPredictPlot[:, :] = np.nan\n",
    "testPredictPlot[len(train_predict)+(look_back*2)+1:len(df1)-1, :] = test_predict\n",
    "# plot baseline and predictions\n",
    "plt.figure(figsize=(12,8)) \n",
    "plt.plot(scaler.inverse_transform(df1))\n",
    "plt.plot(trainPredictPlot)\n",
    "plt.plot(testPredictPlot)\n",
    "plt.show()"
   ]
  },
  {
   "cell_type": "code",
   "execution_count": 40,
   "metadata": {},
   "outputs": [
    {
     "name": "stdout",
     "output_type": "stream",
     "text": [
      "441\n",
      "(1, 100)\n",
      "<class 'numpy.ndarray'>\n"
     ]
    }
   ],
   "source": [
    "# Now let us predict the output for the future 30 days\n",
    "# For this we need past 100 days of data\n",
    "\n",
    "print(len(test_data))\n",
    "\n",
    "x_input = test_data[441-100:].reshape(1,-1)\n",
    "print(x_input.shape)\n",
    "print(type(x_input))"
   ]
  },
  {
   "cell_type": "code",
   "execution_count": 50,
   "metadata": {},
   "outputs": [
    {
     "name": "stdout",
     "output_type": "stream",
     "text": [
      "100\n"
     ]
    }
   ],
   "source": [
    "# Create a list with the previous 100 data points\n",
    "# Convert numpy array to python list\n",
    "# So that we can use the extend() functionality to add data to the list as we predict\n",
    "Input = list(x_input)\n",
    "# print(len(Input))\n",
    "Input = Input[0].tolist()\n",
    "# print(Input)\n",
    "print(len(Input))"
   ]
  },
  {
   "cell_type": "code",
   "execution_count": 53,
   "metadata": {},
   "outputs": [
    {
     "name": "stdout",
     "output_type": "stream",
     "text": [
      "->->->->->->->->->->->->->->->->->->->->->->->->->->->->->->"
     ]
    }
   ],
   "source": [
    "from numpy import array\n",
    "\n",
    "lst_output=[]\n",
    "n_steps=100\n",
    "i=0\n",
    "\n",
    "while(i<30):\n",
    "    print('->',end = \"\")\n",
    "    if(len(Input)>100):\n",
    "        x_input = np.array(Input[1:]) # The prev 100 data points are collected\n",
    "        x_input = x_input.reshape(1,-1)\n",
    "        x_input = x_input.reshape((1, n_steps, 1))\n",
    "        \n",
    "        yhat = model.predict(x_input, verbose=0)\n",
    "        Input.extend(yhat[0].tolist())\n",
    "        Input = Input[1:] # Only the last 100 data point is retained and used for predicting next value\n",
    "        \n",
    "        lst_output.extend(yhat.tolist())\n",
    "        i=i+1\n",
    "    else:\n",
    "        x_input = x_input.reshape((1, n_steps,1))\n",
    "        yhat = model.predict(x_input, verbose=0)\n",
    "        \n",
    "        Input.extend(yhat[0].tolist())\n",
    "        \n",
    "        lst_output.extend(yhat.tolist())\n",
    "        i=i+1"
   ]
  },
  {
   "cell_type": "code",
   "execution_count": 56,
   "metadata": {},
   "outputs": [
    {
     "name": "stdout",
     "output_type": "stream",
     "text": [
      "30\n"
     ]
    }
   ],
   "source": [
    "# lst_output conains the predictions for the next 30 days\n",
    "print(len(lst_output))"
   ]
  },
  {
   "cell_type": "code",
   "execution_count": 61,
   "metadata": {},
   "outputs": [
    {
     "name": "stdout",
     "output_type": "stream",
     "text": [
      "30\n"
     ]
    }
   ],
   "source": [
    "# Let us plot the predictions of the next 30 days.\n",
    "days = np.arange(1,101)\n",
    "# print(days)\n",
    "pred_days = np.arange(101,131)\n",
    "print(len(pred_days))"
   ]
  },
  {
   "cell_type": "code",
   "execution_count": 63,
   "metadata": {},
   "outputs": [
    {
     "data": {
      "text/plain": [
       "[<matplotlib.lines.Line2D at 0x2e98c7a8ca0>]"
      ]
     },
     "execution_count": 63,
     "metadata": {},
     "output_type": "execute_result"
    },
    {
     "data": {
      "image/png": "[encoded data removed]",
      "text/plain": [
       "<Figure size 432x288 with 1 Axes>"
      ]
     },
     "metadata": {
      "needs_background": "light"
     },
     "output_type": "display_data"
    }
   ],
   "source": [
    "# Add all the previous data to the newly predicted data for visulalization\n",
    "\n",
    "all_data = df1.tolist()\n",
    "all_data.extend(lst_output)\n",
    "\n",
    "plt.plot(all_data[1100:])\n"
   ]
  },
  {
   "cell_type": "code",
   "execution_count": 66,
   "metadata": {},
   "outputs": [
    {
     "data": {
      "text/plain": [
       "[<matplotlib.lines.Line2D at 0x2e98ca38640>]"
      ]
     },
     "execution_count": 66,
     "metadata": {},
     "output_type": "execute_result"
    },
    {
     "data": {
      "image/png": "[encoded data removed]",
      "text/plain": [
       "<Figure size 432x288 with 1 Axes>"
      ]
     },
     "metadata": {
      "needs_background": "light"
     },
     "output_type": "display_data"
    }
   ],
   "source": [
    "# New plot for differentiating between predicted data and old data\n",
    "\n",
    "plt.plot(days,scaler.inverse_transform(df1[1158:]))\n",
    "plt.plot(pred_days,scaler.inverse_transform(lst_output))\n"
   ]
  },
  {
   "cell_type": "code",
   "execution_count": null,
   "metadata": {},
   "outputs": [],
   "source": [
    "# The LSTM model predicts a downward trending price for the stock. This correlates with the overal trend of the Stock.\n",
    "# But the prediction is smoothed out and is unable to capture the micro movements of the stock.\n",
    "# Probably adding more features to the model than just closing price might improve the performance.\n",
    "# Features that can be used : Volume, Opening price, index values, etc."
   ]
  },
  {
   "cell_type": "markdown",
   "metadata": {},
   "source": [
    "# Rahul raaghav A"
   ]
  }
 ],
 "metadata": {
  "kernelspec": {
   "display_name": "Python 3.9.6 64-bit",
   "language": "python",
   "name": "python3"
  },
  "language_info": {
   "codemirror_mode": {
    "name": "ipython",
    "version": 3
   },
   "file_extension": ".py",
   "mimetype": "text/x-python",
   "name": "python",
   "nbconvert_exporter": "python",
   "pygments_lexer": "ipython3",
   "version": "3.9.6"
  },
  "orig_nbformat": 4,
  "vscode": {
   "interpreter": {
    "hash": "9e2d4bb3fb4a74752fb0ab9ee189e7ae19a681ce247d36d7b7485e6058434b21"
   }
  }
 },
 "nbformat": 4,
 "nbformat_minor": 2
}
